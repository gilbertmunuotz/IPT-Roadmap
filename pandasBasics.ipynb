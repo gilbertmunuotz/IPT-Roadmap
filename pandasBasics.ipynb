{
 "cells": [
  {
   "cell_type": "code",
   "execution_count": 2,
   "id": "c25fb5d0",
   "metadata": {},
   "outputs": [
    {
     "name": "stdout",
     "output_type": "stream",
     "text": [
      "2.3.1\n"
     ]
    }
   ],
   "source": [
    "import pandas as pd\n",
    "version = pd.__version__\n",
    "print(version)"
   ]
  },
  {
   "cell_type": "code",
   "execution_count": 9,
   "id": "736b8c0f-3ee3-40ac-9b15-65a133d2864f",
   "metadata": {},
   "outputs": [
    {
     "name": "stdout",
     "output_type": "stream",
     "text": [
      "   #       Name Type 1  Type 2  HP  Attack  Defense  Sp. Atk  Sp. Def  Speed  \\\n",
      "0  1  Bulbasaur  Grass  Poison  45      49       49       65       65     45   \n",
      "1  2    Ivysaur  Grass  Poison  60      62       63       80       80     60   \n",
      "2  3   Venusaur  Grass  Poison  80      82       83      100      100     80   \n",
      "\n",
      "   Generation  Legendary  \n",
      "0           1      False  \n",
      "1           1      False  \n",
      "2           1      False  \n"
     ]
    }
   ],
   "source": [
    "# Load Data\n",
    "# 1. csv files\n",
    "df = pd.read_csv(\"pokemon_data.csv\")\n",
    "# print(df)\n",
    "print(df.head(3))\n",
    "\n",
    "# 2. excel files\n",
    "# df_xlsx = pd.read_xlsx(\"filename or path\")\n",
    "# print(df_xlsx)"
   ]
  },
  {
   "cell_type": "code",
   "execution_count": 8,
   "id": "448cf297-ac1b-4b6f-8ff1-ae5fef79df09",
   "metadata": {},
   "outputs": [
    {
     "data": {
      "text/plain": [
       "Index(['#', 'Name', 'Type 1', 'Type 2', 'HP', 'Attack', 'Defense', 'Sp. Atk',\n",
       "       'Sp. Def', 'Speed', 'Generation', 'Legendary'],\n",
       "      dtype='object')"
      ]
     },
     "execution_count": 8,
     "metadata": {},
     "output_type": "execute_result"
    }
   ],
   "source": [
    "# Reading Data\n",
    "# Reading Headers\n",
    "df.columns"
   ]
  },
  {
   "cell_type": "code",
   "execution_count": 15,
   "id": "f91ff8cb-c868-43e9-a89a-a466cea36379",
   "metadata": {},
   "outputs": [
    {
     "name": "stdout",
     "output_type": "stream",
     "text": [
      "                      Name  Speed\n",
      "0                Bulbasaur     45\n",
      "1                  Ivysaur     60\n",
      "2                 Venusaur     80\n",
      "3    VenusaurMega Venusaur     80\n",
      "4               Charmander     65\n",
      "..                     ...    ...\n",
      "795                Diancie     50\n",
      "796    DiancieMega Diancie    110\n",
      "797    HoopaHoopa Confined     70\n",
      "798     HoopaHoopa Unbound     80\n",
      "799              Volcanion     70\n",
      "\n",
      "[800 rows x 2 columns]\n"
     ]
    }
   ],
   "source": [
    "# Reading each column\n",
    "# name = df.Name\n",
    "# print(name)\n",
    "\n",
    "print(df[['Name', 'Speed']])"
   ]
  },
  {
   "cell_type": "code",
   "execution_count": 16,
   "id": "92302957-7b9a-44c6-9ab5-a86f68abac35",
   "metadata": {},
   "outputs": [
    {
     "name": "stdout",
     "output_type": "stream",
     "text": [
      "#                   2\n",
      "Name          Ivysaur\n",
      "Type 1          Grass\n",
      "Type 2         Poison\n",
      "HP                 60\n",
      "Attack             62\n",
      "Defense            63\n",
      "Sp. Atk            80\n",
      "Sp. Def            80\n",
      "Speed              60\n",
      "Generation          1\n",
      "Legendary       False\n",
      "Name: 1, dtype: object\n"
     ]
    }
   ],
   "source": [
    "# Reading Each Row\n",
    "row = df.iloc[1]\n",
    "print(row)"
   ]
  },
  {
   "cell_type": "code",
   "execution_count": 20,
   "id": "28cb7cab-00a9-48ab-86a9-009da683154e",
   "metadata": {},
   "outputs": [
    {
     "name": "stdout",
     "output_type": "stream",
     "text": [
      "60\n"
     ]
    }
   ],
   "source": [
    "# Reading specific Location\n",
    "row = df.iloc[1,4]\n",
    "print(row)"
   ]
  },
  {
   "cell_type": "code",
   "execution_count": 25,
   "id": "b6427825-0e5f-4fe0-aee4-a938e97a7aef",
   "metadata": {},
   "outputs": [
    {
     "name": "stdout",
     "output_type": "stream",
     "text": [
      "       #                   Name    Type 1    Type 2   HP  Attack  Defense  \\\n",
      "2      3               Venusaur     Grass    Poison   80      82       83   \n",
      "3      3  VenusaurMega Venusaur     Grass    Poison   80     100      123   \n",
      "5      5             Charmeleon      Fire       NaN   58      64       58   \n",
      "29    24                  Arbok    Poison       NaN   60      85       69   \n",
      "99    92                 Gastly     Ghost    Poison   30      35       30   \n",
      "139  129               Magikarp     Water       NaN   20      10       55   \n",
      "152  141               Kabutops      Rock     Water   60     115      105   \n",
      "161  149              Dragonite    Dragon    Flying   91     134       95   \n",
      "168  154               Meganium     Grass       NaN   80      82      100   \n",
      "170  156                Quilava      Fire       NaN   58      64       58   \n",
      "203  188               Skiploom     Grass    Flying   55      45       50   \n",
      "278  257               Blaziken      Fire  Fighting   80     120       70   \n",
      "298  275                Shiftry     Grass      Dark   90     100       60   \n",
      "305  282              Gardevoir   Psychic     Fairy   68      65       65   \n",
      "335  308               Medicham  Fighting   Psychic   60      60       75   \n",
      "357  326                Grumpig   Psychic       NaN   80      45       65   \n",
      "365  334                Altaria    Dragon    Flying   75      70       90   \n",
      "366  334    AltariaMega Altaria    Dragon     Fairy   75     110      110   \n",
      "381  349                 Feebas     Water       NaN   20      15       20   \n",
      "396  362                 Glalie       Ice       NaN   80      80       80   \n",
      "442  397               Staravia    Normal    Flying   55      75       50   \n",
      "473  426               Drifblim     Ghost    Flying  150      80       44   \n",
      "519  468               Togekiss     Fairy    Flying   85      50       95   \n",
      "524  473              Mamoswine       Ice    Ground  110     130       80   \n",
      "526  475                Gallade   Psychic  Fighting   68     125       65   \n",
      "538  481                Mesprit   Psychic       NaN   80     105      105   \n",
      "547  489                 Phione     Water       NaN   80      80       80   \n",
      "567  508              Stoutland    Normal       NaN   85     110       90   \n",
      "670  609             Chandelure     Ghost      Fire   60      55       90   \n",
      "689  628               Braviary    Normal    Flying  100     123       75   \n",
      "691  630              Mandibuzz      Dark    Flying  110      65      105   \n",
      "776  706                 Goodra    Dragon       NaN   90     100       70   \n",
      "798  720     HoopaHoopa Unbound   Psychic      Dark   80     160       60   \n",
      "\n",
      "     Sp. Atk  Sp. Def  Speed  Generation  Legendary  \n",
      "2        100      100     80           1      False  \n",
      "3        122      120     80           1      False  \n",
      "5         80       65     80           1      False  \n",
      "29        65       79     80           1      False  \n",
      "99       100       35     80           1      False  \n",
      "139       15       20     80           1      False  \n",
      "152       65       70     80           1      False  \n",
      "161      100      100     80           1      False  \n",
      "168       83      100     80           2      False  \n",
      "170       80       65     80           2      False  \n",
      "203       45       65     80           2      False  \n",
      "278      110       70     80           3      False  \n",
      "298       90       60     80           3      False  \n",
      "305      125      115     80           3      False  \n",
      "335       60       75     80           3      False  \n",
      "357       90      110     80           3      False  \n",
      "365       70      105     80           3      False  \n",
      "366      110      105     80           3      False  \n",
      "381       10       55     80           3      False  \n",
      "396       80       80     80           3      False  \n",
      "442       40       40     80           4      False  \n",
      "473       90       54     80           4      False  \n",
      "519      120      115     80           4      False  \n",
      "524       70       60     80           4      False  \n",
      "526       65      115     80           4      False  \n",
      "538      105      105     80           4       True  \n",
      "547       80       80     80           4      False  \n",
      "567       45       90     80           5      False  \n",
      "670      145       90     80           5      False  \n",
      "689       57       75     80           5      False  \n",
      "691       55       95     80           5      False  \n",
      "776      110      150     80           6      False  \n",
      "798      170      130     80           6       True  \n"
     ]
    }
   ],
   "source": [
    "# Specific Identities \n",
    "speed = df.loc[df['Speed'] == 80]\n",
    "print(speed)"
   ]
  },
  {
   "cell_type": "code",
   "execution_count": 27,
   "id": "163fcc7b-26c5-4d30-ba5d-ee1913bd07a2",
   "metadata": {},
   "outputs": [
    {
     "data": {
      "text/html": [
       "<div>\n",
       "<style scoped>\n",
       "    .dataframe tbody tr th:only-of-type {\n",
       "        vertical-align: middle;\n",
       "    }\n",
       "\n",
       "    .dataframe tbody tr th {\n",
       "        vertical-align: top;\n",
       "    }\n",
       "\n",
       "    .dataframe thead th {\n",
       "        text-align: right;\n",
       "    }\n",
       "</style>\n",
       "<table border=\"1\" class=\"dataframe\">\n",
       "  <thead>\n",
       "    <tr style=\"text-align: right;\">\n",
       "      <th></th>\n",
       "      <th>#</th>\n",
       "      <th>HP</th>\n",
       "      <th>Attack</th>\n",
       "      <th>Defense</th>\n",
       "      <th>Sp. Atk</th>\n",
       "      <th>Sp. Def</th>\n",
       "      <th>Speed</th>\n",
       "      <th>Generation</th>\n",
       "    </tr>\n",
       "  </thead>\n",
       "  <tbody>\n",
       "    <tr>\n",
       "      <th>count</th>\n",
       "      <td>800.000000</td>\n",
       "      <td>800.000000</td>\n",
       "      <td>800.000000</td>\n",
       "      <td>800.000000</td>\n",
       "      <td>800.000000</td>\n",
       "      <td>800.000000</td>\n",
       "      <td>800.000000</td>\n",
       "      <td>800.00000</td>\n",
       "    </tr>\n",
       "    <tr>\n",
       "      <th>mean</th>\n",
       "      <td>362.813750</td>\n",
       "      <td>69.258750</td>\n",
       "      <td>79.001250</td>\n",
       "      <td>73.842500</td>\n",
       "      <td>72.820000</td>\n",
       "      <td>71.902500</td>\n",
       "      <td>68.277500</td>\n",
       "      <td>3.32375</td>\n",
       "    </tr>\n",
       "    <tr>\n",
       "      <th>std</th>\n",
       "      <td>208.343798</td>\n",
       "      <td>25.534669</td>\n",
       "      <td>32.457366</td>\n",
       "      <td>31.183501</td>\n",
       "      <td>32.722294</td>\n",
       "      <td>27.828916</td>\n",
       "      <td>29.060474</td>\n",
       "      <td>1.66129</td>\n",
       "    </tr>\n",
       "    <tr>\n",
       "      <th>min</th>\n",
       "      <td>1.000000</td>\n",
       "      <td>1.000000</td>\n",
       "      <td>5.000000</td>\n",
       "      <td>5.000000</td>\n",
       "      <td>10.000000</td>\n",
       "      <td>20.000000</td>\n",
       "      <td>5.000000</td>\n",
       "      <td>1.00000</td>\n",
       "    </tr>\n",
       "    <tr>\n",
       "      <th>25%</th>\n",
       "      <td>184.750000</td>\n",
       "      <td>50.000000</td>\n",
       "      <td>55.000000</td>\n",
       "      <td>50.000000</td>\n",
       "      <td>49.750000</td>\n",
       "      <td>50.000000</td>\n",
       "      <td>45.000000</td>\n",
       "      <td>2.00000</td>\n",
       "    </tr>\n",
       "    <tr>\n",
       "      <th>50%</th>\n",
       "      <td>364.500000</td>\n",
       "      <td>65.000000</td>\n",
       "      <td>75.000000</td>\n",
       "      <td>70.000000</td>\n",
       "      <td>65.000000</td>\n",
       "      <td>70.000000</td>\n",
       "      <td>65.000000</td>\n",
       "      <td>3.00000</td>\n",
       "    </tr>\n",
       "    <tr>\n",
       "      <th>75%</th>\n",
       "      <td>539.250000</td>\n",
       "      <td>80.000000</td>\n",
       "      <td>100.000000</td>\n",
       "      <td>90.000000</td>\n",
       "      <td>95.000000</td>\n",
       "      <td>90.000000</td>\n",
       "      <td>90.000000</td>\n",
       "      <td>5.00000</td>\n",
       "    </tr>\n",
       "    <tr>\n",
       "      <th>max</th>\n",
       "      <td>721.000000</td>\n",
       "      <td>255.000000</td>\n",
       "      <td>190.000000</td>\n",
       "      <td>230.000000</td>\n",
       "      <td>194.000000</td>\n",
       "      <td>230.000000</td>\n",
       "      <td>180.000000</td>\n",
       "      <td>6.00000</td>\n",
       "    </tr>\n",
       "  </tbody>\n",
       "</table>\n",
       "</div>"
      ],
      "text/plain": [
       "                #          HP      Attack     Defense     Sp. Atk     Sp. Def  \\\n",
       "count  800.000000  800.000000  800.000000  800.000000  800.000000  800.000000   \n",
       "mean   362.813750   69.258750   79.001250   73.842500   72.820000   71.902500   \n",
       "std    208.343798   25.534669   32.457366   31.183501   32.722294   27.828916   \n",
       "min      1.000000    1.000000    5.000000    5.000000   10.000000   20.000000   \n",
       "25%    184.750000   50.000000   55.000000   50.000000   49.750000   50.000000   \n",
       "50%    364.500000   65.000000   75.000000   70.000000   65.000000   70.000000   \n",
       "75%    539.250000   80.000000  100.000000   90.000000   95.000000   90.000000   \n",
       "max    721.000000  255.000000  190.000000  230.000000  194.000000  230.000000   \n",
       "\n",
       "            Speed  Generation  \n",
       "count  800.000000   800.00000  \n",
       "mean    68.277500     3.32375  \n",
       "std     29.060474     1.66129  \n",
       "min      5.000000     1.00000  \n",
       "25%     45.000000     2.00000  \n",
       "50%     65.000000     3.00000  \n",
       "75%     90.000000     5.00000  \n",
       "max    180.000000     6.00000  "
      ]
     },
     "execution_count": 27,
     "metadata": {},
     "output_type": "execute_result"
    }
   ],
   "source": [
    "# Sorting/Describing Data\n",
    "df.describe()"
   ]
  },
  {
   "cell_type": "code",
   "execution_count": 30,
   "id": "e8987a6b-2026-40c6-b8cd-b6dd6f2ad28d",
   "metadata": {},
   "outputs": [
    {
     "name": "stdout",
     "output_type": "stream",
     "text": [
      "       #                     Name   Type 1  Type 2   HP  Attack  Defense  \\\n",
      "510  460                Abomasnow    Grass     Ice   90      92       75   \n",
      "511  460  AbomasnowMega Abomasnow    Grass     Ice   90     132      105   \n",
      "68    63                     Abra  Psychic     NaN   25      20       15   \n",
      "392  359                    Absol     Dark     NaN   65     130       60   \n",
      "393  359          AbsolMega Absol     Dark     NaN   65     150       60   \n",
      "..   ...                      ...      ...     ...  ...     ...      ...   \n",
      "632  571                  Zoroark     Dark     NaN   60     105       60   \n",
      "631  570                    Zorua     Dark     NaN   40      65       40   \n",
      "46    41                    Zubat   Poison  Flying   40      45       35   \n",
      "695  634                 Zweilous     Dark  Dragon   72      85       70   \n",
      "794  718         Zygarde50% Forme   Dragon  Ground  108     100      121   \n",
      "\n",
      "     Sp. Atk  Sp. Def  Speed  Generation  Legendary  \n",
      "510       92       85     60           4      False  \n",
      "511      132      105     30           4      False  \n",
      "68       105       55     90           1      False  \n",
      "392       75       60     75           3      False  \n",
      "393      115       60    115           3      False  \n",
      "..       ...      ...    ...         ...        ...  \n",
      "632      120       60    105           5      False  \n",
      "631       80       40     65           5      False  \n",
      "46        30       40     55           1      False  \n",
      "695       65       70     58           5      False  \n",
      "794       81       95     95           6       True  \n",
      "\n",
      "[800 rows x 12 columns]\n"
     ]
    }
   ],
   "source": [
    "# Sorting values\n",
    "sorted_names = df.sort_values('Name')\n",
    "print(sorted_names)"
   ]
  },
  {
   "cell_type": "code",
   "execution_count": 31,
   "id": "8423575f-cd31-472b-a759-820f0d56e0a1",
   "metadata": {},
   "outputs": [
    {
     "name": "stdout",
     "output_type": "stream",
     "text": [
      "       #                     Name   Type 1  Type 2   HP  Attack  Defense  \\\n",
      "794  718         Zygarde50% Forme   Dragon  Ground  108     100      121   \n",
      "695  634                 Zweilous     Dark  Dragon   72      85       70   \n",
      "46    41                    Zubat   Poison  Flying   40      45       35   \n",
      "631  570                    Zorua     Dark     NaN   40      65       40   \n",
      "632  571                  Zoroark     Dark     NaN   60     105       60   \n",
      "..   ...                      ...      ...     ...  ...     ...      ...   \n",
      "393  359          AbsolMega Absol     Dark     NaN   65     150       60   \n",
      "392  359                    Absol     Dark     NaN   65     130       60   \n",
      "68    63                     Abra  Psychic     NaN   25      20       15   \n",
      "511  460  AbomasnowMega Abomasnow    Grass     Ice   90     132      105   \n",
      "510  460                Abomasnow    Grass     Ice   90      92       75   \n",
      "\n",
      "     Sp. Atk  Sp. Def  Speed  Generation  Legendary  \n",
      "794       81       95     95           6       True  \n",
      "695       65       70     58           5      False  \n",
      "46        30       40     55           1      False  \n",
      "631       80       40     65           5      False  \n",
      "632      120       60    105           5      False  \n",
      "..       ...      ...    ...         ...        ...  \n",
      "393      115       60    115           3      False  \n",
      "392       75       60     75           3      False  \n",
      "68       105       55     90           1      False  \n",
      "511      132      105     30           4      False  \n",
      "510       92       85     60           4      False  \n",
      "\n",
      "[800 rows x 12 columns]\n"
     ]
    }
   ],
   "source": [
    "# Sorting values with attributes\n",
    "sorted_names = df.sort_values('Name', ascending = False)\n",
    "print(sorted_names)"
   ]
  },
  {
   "cell_type": "code",
   "execution_count": 39,
   "id": "8f42fca4-95c0-4610-a10e-af7c85f8bc39",
   "metadata": {},
   "outputs": [
    {
     "data": {
      "text/html": [
       "<div>\n",
       "<style scoped>\n",
       "    .dataframe tbody tr th:only-of-type {\n",
       "        vertical-align: middle;\n",
       "    }\n",
       "\n",
       "    .dataframe tbody tr th {\n",
       "        vertical-align: top;\n",
       "    }\n",
       "\n",
       "    .dataframe thead th {\n",
       "        text-align: right;\n",
       "    }\n",
       "</style>\n",
       "<table border=\"1\" class=\"dataframe\">\n",
       "  <thead>\n",
       "    <tr style=\"text-align: right;\">\n",
       "      <th></th>\n",
       "      <th>#</th>\n",
       "      <th>Name</th>\n",
       "      <th>Type 1</th>\n",
       "      <th>Type 2</th>\n",
       "      <th>HP</th>\n",
       "      <th>Attack</th>\n",
       "      <th>Defense</th>\n",
       "      <th>Sp. Atk</th>\n",
       "      <th>Sp. Def</th>\n",
       "      <th>Speed</th>\n",
       "      <th>Generation</th>\n",
       "      <th>Legendary</th>\n",
       "    </tr>\n",
       "  </thead>\n",
       "  <tbody>\n",
       "    <tr>\n",
       "      <th>0</th>\n",
       "      <td>1</td>\n",
       "      <td>Bulbasaur</td>\n",
       "      <td>Grass</td>\n",
       "      <td>Poison</td>\n",
       "      <td>45</td>\n",
       "      <td>49</td>\n",
       "      <td>49</td>\n",
       "      <td>65</td>\n",
       "      <td>65</td>\n",
       "      <td>45</td>\n",
       "      <td>1</td>\n",
       "      <td>False</td>\n",
       "    </tr>\n",
       "    <tr>\n",
       "      <th>1</th>\n",
       "      <td>2</td>\n",
       "      <td>Ivysaur</td>\n",
       "      <td>Grass</td>\n",
       "      <td>Poison</td>\n",
       "      <td>60</td>\n",
       "      <td>62</td>\n",
       "      <td>63</td>\n",
       "      <td>80</td>\n",
       "      <td>80</td>\n",
       "      <td>60</td>\n",
       "      <td>1</td>\n",
       "      <td>False</td>\n",
       "    </tr>\n",
       "    <tr>\n",
       "      <th>2</th>\n",
       "      <td>3</td>\n",
       "      <td>Venusaur</td>\n",
       "      <td>Grass</td>\n",
       "      <td>Poison</td>\n",
       "      <td>80</td>\n",
       "      <td>82</td>\n",
       "      <td>83</td>\n",
       "      <td>100</td>\n",
       "      <td>100</td>\n",
       "      <td>80</td>\n",
       "      <td>1</td>\n",
       "      <td>False</td>\n",
       "    </tr>\n",
       "    <tr>\n",
       "      <th>3</th>\n",
       "      <td>3</td>\n",
       "      <td>VenusaurMega Venusaur</td>\n",
       "      <td>Grass</td>\n",
       "      <td>Poison</td>\n",
       "      <td>80</td>\n",
       "      <td>100</td>\n",
       "      <td>123</td>\n",
       "      <td>122</td>\n",
       "      <td>120</td>\n",
       "      <td>80</td>\n",
       "      <td>1</td>\n",
       "      <td>False</td>\n",
       "    </tr>\n",
       "    <tr>\n",
       "      <th>4</th>\n",
       "      <td>4</td>\n",
       "      <td>Charmander</td>\n",
       "      <td>Fire</td>\n",
       "      <td>NaN</td>\n",
       "      <td>39</td>\n",
       "      <td>52</td>\n",
       "      <td>43</td>\n",
       "      <td>60</td>\n",
       "      <td>50</td>\n",
       "      <td>65</td>\n",
       "      <td>1</td>\n",
       "      <td>False</td>\n",
       "    </tr>\n",
       "  </tbody>\n",
       "</table>\n",
       "</div>"
      ],
      "text/plain": [
       "   #                   Name Type 1  Type 2  HP  Attack  Defense  Sp. Atk  \\\n",
       "0  1              Bulbasaur  Grass  Poison  45      49       49       65   \n",
       "1  2                Ivysaur  Grass  Poison  60      62       63       80   \n",
       "2  3               Venusaur  Grass  Poison  80      82       83      100   \n",
       "3  3  VenusaurMega Venusaur  Grass  Poison  80     100      123      122   \n",
       "4  4             Charmander   Fire     NaN  39      52       43       60   \n",
       "\n",
       "   Sp. Def  Speed  Generation  Legendary  \n",
       "0       65     45           1      False  \n",
       "1       80     60           1      False  \n",
       "2      100     80           1      False  \n",
       "3      120     80           1      False  \n",
       "4       50     65           1      False  "
      ]
     },
     "execution_count": 39,
     "metadata": {},
     "output_type": "execute_result"
    }
   ],
   "source": [
    "# Data manipulation\n",
    "# Dropping out a Column\n",
    "Total = df.drop(columns = [\"HP\"])\n",
    "print(Total.head(5))"
   ]
  },
  {
   "cell_type": "code",
   "execution_count": 51,
   "id": "c74cd187-3c42-46b9-bfd5-df8616733138",
   "metadata": {},
   "outputs": [
    {
     "name": "stdout",
     "output_type": "stream",
     "text": [
      "     #                       Name  Type 1  Type 2  HP  Attack  Defense  \\\n",
      "0    1                  Bulbasaur   Grass  Poison  45      49       49   \n",
      "1    2                    Ivysaur   Grass  Poison  60      62       63   \n",
      "2    3                   Venusaur   Grass  Poison  80      82       83   \n",
      "3    3      VenusaurMega Venusaur   Grass  Poison  80     100      123   \n",
      "4    4                 Charmander    Fire     NaN  39      52       43   \n",
      "5    5                 Charmeleon    Fire     NaN  58      64       58   \n",
      "6    6                  Charizard    Fire  Flying  78      84       78   \n",
      "7    6  CharizardMega Charizard X    Fire  Dragon  78     130      111   \n",
      "8    6  CharizardMega Charizard Y    Fire  Flying  78     104       78   \n",
      "9    7                   Squirtle   Water     NaN  44      48       65   \n",
      "10   8                  Wartortle   Water     NaN  59      63       80   \n",
      "11   9                  Blastoise   Water     NaN  79      83      100   \n",
      "12   9    BlastoiseMega Blastoise   Water     NaN  79     103      120   \n",
      "13  10                   Caterpie     Bug     NaN  45      30       35   \n",
      "14  11                    Metapod     Bug     NaN  50      20       55   \n",
      "15  12                 Butterfree     Bug  Flying  60      45       50   \n",
      "16  13                     Weedle     Bug  Poison  40      35       30   \n",
      "17  14                     Kakuna     Bug  Poison  45      25       50   \n",
      "18  15                   Beedrill     Bug  Poison  65      90       40   \n",
      "19  15      BeedrillMega Beedrill     Bug  Poison  65     150       40   \n",
      "20  16                     Pidgey  Normal  Flying  40      45       40   \n",
      "21  17                  Pidgeotto  Normal  Flying  63      60       55   \n",
      "22  18                    Pidgeot  Normal  Flying  83      80       75   \n",
      "23  18        PidgeotMega Pidgeot  Normal  Flying  83      80       80   \n",
      "24  19                    Rattata  Normal     NaN  30      56       35   \n",
      "25  20                   Raticate  Normal     NaN  55      81       60   \n",
      "26  21                    Spearow  Normal  Flying  40      60       30   \n",
      "27  22                     Fearow  Normal  Flying  65      90       65   \n",
      "28  23                      Ekans  Poison     NaN  35      60       44   \n",
      "29  24                      Arbok  Poison     NaN  60      85       69   \n",
      "\n",
      "    Sp. Atk  Sp. Def  Speed  Generation  Legendary  \n",
      "0        65       65     45           1      False  \n",
      "1        80       80     60           1      False  \n",
      "2       100      100     80           1      False  \n",
      "3       122      120     80           1      False  \n",
      "4        60       50     65           1      False  \n",
      "5        80       65     80           1      False  \n",
      "6       109       85    100           1      False  \n",
      "7       130       85    100           1      False  \n",
      "8       159      115    100           1      False  \n",
      "9        50       64     43           1      False  \n",
      "10       65       80     58           1      False  \n",
      "11       85      105     78           1      False  \n",
      "12      135      115     78           1      False  \n",
      "13       20       20     45           1      False  \n",
      "14       25       25     30           1      False  \n",
      "15       90       80     70           1      False  \n",
      "16       20       20     50           1      False  \n",
      "17       25       25     35           1      False  \n",
      "18       45       80     75           1      False  \n",
      "19       15       80    145           1      False  \n",
      "20       35       35     56           1      False  \n",
      "21       50       50     71           1      False  \n",
      "22       70       70    101           1      False  \n",
      "23      135       80    121           1      False  \n",
      "24       25       35     72           1      False  \n",
      "25       50       70     97           1      False  \n",
      "26       31       31     70           1      False  \n",
      "27       61       61    100           1      False  \n",
      "28       40       54     55           1      False  \n",
      "29       65       79     80           1      False  \n"
     ]
    }
   ],
   "source": [
    "# Changing Column names\n",
    "df.loc[df[\"Type 2\"] == \"Ground\", \"Type 2\"] = \"Earth\"\n",
    "print(df.head(30))"
   ]
  },
  {
   "cell_type": "code",
   "execution_count": null,
   "id": "d4f2907e-5f59-4b8c-a365-4c64b210f06e",
   "metadata": {},
   "outputs": [],
   "source": [
    "# Saving files\n",
    "df.to_csv('filename')\n",
    "df.to_excel('filename', index = False)"
   ]
  },
  {
   "cell_type": "code",
   "execution_count": 45,
   "id": "f016e723-037d-4a67-9d07-9786bfa70fd1",
   "metadata": {},
   "outputs": [
    {
     "name": "stdout",
     "output_type": "stream",
     "text": [
      "   #                       Name Type 1  Type 2  HP  Attack  Defense  Sp. Atk  \\\n",
      "4  4                 Charmander   Fire     NaN  39      52       43       60   \n",
      "5  5                 Charmeleon   Fire     NaN  58      64       58       80   \n",
      "6  6                  Charizard   Fire  Flying  78      84       78      109   \n",
      "7  6  CharizardMega Charizard X   Fire  Dragon  78     130      111      130   \n",
      "8  6  CharizardMega Charizard Y   Fire  Flying  78     104       78      159   \n",
      "\n",
      "   Sp. Def  Speed  Generation  Legendary  \n",
      "4       50     65           1      False  \n",
      "5       65     80           1      False  \n",
      "6       85    100           1      False  \n",
      "7       85    100           1      False  \n",
      "8      115    100           1      False  \n"
     ]
    }
   ],
   "source": [
    "# Filtering Data\n",
    "filtered_data = df.loc[df[\"Type 1\"] == \"Fire\"]\n",
    "print(filtered_data.head(5))"
   ]
  },
  {
   "cell_type": "code",
   "execution_count": 55,
   "id": "8a4b7c4c-a4ad-44dd-a37c-af49e6c148e2",
   "metadata": {},
   "outputs": [
    {
     "name": "stdout",
     "output_type": "stream",
     "text": [
      "                #         HP     Attack     Defense    Sp. Atk     Sp. Def  \\\n",
      "Speed                                                                        \n",
      "5      329.500000  77.500000  47.500000  135.000000  25.000000  157.500000   \n",
      "10     454.333333  46.333333  76.666667   77.000000  26.333333   58.666667   \n",
      "15     274.666667  62.111111  47.777778   53.666667  35.000000   33.888889   \n",
      "20     338.333333  57.266667  65.333333   75.666667  60.600000   62.066667   \n",
      "22     564.000000  54.000000  78.000000  103.000000  53.000000   45.000000   \n",
      "\n",
      "       Generation  Legendary  \n",
      "Speed                         \n",
      "5        3.000000        0.0  \n",
      "10       4.000000        0.0  \n",
      "15       2.777778        0.0  \n",
      "20       3.200000        0.0  \n",
      "22       5.000000        0.0  \n"
     ]
    }
   ],
   "source": [
    "# Aggregate Statistics \n",
    "# Mean\n",
    "speed = df.groupby([\"Speed\"]).mean(numeric_only = True)\n",
    "print(speed.head())"
   ]
  },
  {
   "cell_type": "code",
   "execution_count": 57,
   "id": "f31c5f78-0a2a-4f40-8776-984250680c58",
   "metadata": {},
   "outputs": [
    {
     "name": "stdout",
     "output_type": "stream",
     "text": [
      "          #   HP  Attack  Defense  Sp. Atk  Sp. Def  Generation  Legendary\n",
      "Speed                                                                     \n",
      "5       659  155      95      270       50      315           6          0\n",
      "10     1363  139     230      231       79      176          12          0\n",
      "15     2472  559     430      483      315      305          25          0\n",
      "20     5075  859     980     1135      909      931          48          0\n",
      "22      564   54      78      103       53       45           5          0\n"
     ]
    }
   ],
   "source": [
    "# Sum\n",
    "speed = df.groupby([\"Speed\"]).sum(numeric_only = True)\n",
    "print(speed.head())                   "
   ]
  },
  {
   "cell_type": "code",
   "execution_count": 58,
   "id": "cfa6e1cb-a511-417b-a060-45f76b17d955",
   "metadata": {},
   "outputs": [
    {
     "name": "stdout",
     "output_type": "stream",
     "text": [
      "#               0\n",
      "Name            0\n",
      "Type 1          0\n",
      "Type 2        386\n",
      "HP              0\n",
      "Attack          0\n",
      "Defense         0\n",
      "Sp. Atk         0\n",
      "Sp. Def         0\n",
      "Speed           0\n",
      "Generation      0\n",
      "Legendary       0\n",
      "dtype: int64\n"
     ]
    }
   ],
   "source": [
    "# Check for missing values\n",
    "null_values = df.isnull().sum()\n",
    "print(null_values)"
   ]
  },
  {
   "cell_type": "code",
   "execution_count": 59,
   "id": "55365a9c-17cf-4b5b-a276-a32c97ecdb09",
   "metadata": {},
   "outputs": [
    {
     "name": "stdout",
     "output_type": "stream",
     "text": [
      "0\n"
     ]
    }
   ],
   "source": [
    "# Check for Duplicates\n",
    "duplicates = df.duplicated().sum()\n",
    "print(duplicates)"
   ]
  },
  {
   "cell_type": "code",
   "execution_count": 60,
   "id": "a79c36fd-8048-4a7b-a691-ad09521dab7f",
   "metadata": {},
   "outputs": [
    {
     "name": "stdout",
     "output_type": "stream",
     "text": [
      "       #                   Name   Type 1  Type 2  HP  Attack  Defense  \\\n",
      "0      1              Bulbasaur    Grass  Poison  45      49       49   \n",
      "1      2                Ivysaur    Grass  Poison  60      62       63   \n",
      "2      3               Venusaur    Grass  Poison  80      82       83   \n",
      "3      3  VenusaurMega Venusaur    Grass  Poison  80     100      123   \n",
      "4      4             Charmander     Fire     NaN  39      52       43   \n",
      "..   ...                    ...      ...     ...  ..     ...      ...   \n",
      "795  719                Diancie     Rock   Fairy  50     100      150   \n",
      "796  719    DiancieMega Diancie     Rock   Fairy  50     160      110   \n",
      "797  720    HoopaHoopa Confined  Psychic   Ghost  80     110       60   \n",
      "798  720     HoopaHoopa Unbound  Psychic    Dark  80     160       60   \n",
      "799  721              Volcanion     Fire   Water  80     110      120   \n",
      "\n",
      "     Sp. Atk  Sp. Def  Speed  Generation  Legendary  \n",
      "0         65       65     45           1      False  \n",
      "1         80       80     60           1      False  \n",
      "2        100      100     80           1      False  \n",
      "3        122      120     80           1      False  \n",
      "4         60       50     65           1      False  \n",
      "..       ...      ...    ...         ...        ...  \n",
      "795      100      150     50           6       True  \n",
      "796      160      110    110           6       True  \n",
      "797      150      130     70           6       True  \n",
      "798      170      130     80           6       True  \n",
      "799      130       90     70           6       True  \n",
      "\n",
      "[800 rows x 12 columns]\n"
     ]
    }
   ],
   "source": [
    "# Drop Duplicates if Any\n",
    "drop_duplicates = df.drop_duplicates()\n",
    "print(drop_duplicates)"
   ]
  },
  {
   "cell_type": "code",
   "execution_count": 61,
   "id": "d487bc9e-6e1e-48e8-b640-9ca37376da18",
   "metadata": {},
   "outputs": [
    {
     "name": "stdout",
     "output_type": "stream",
     "text": [
      "       #                   Name   Type 1  Type 2  HP  Attack  Defense  \\\n",
      "0      1              Bulbasaur    Grass  Poison  45      49       49   \n",
      "1      2                Ivysaur    Grass  Poison  60      62       63   \n",
      "2      3               Venusaur    Grass  Poison  80      82       83   \n",
      "3      3  VenusaurMega Venusaur    Grass  Poison  80     100      123   \n",
      "6      6              Charizard     Fire  Flying  78      84       78   \n",
      "..   ...                    ...      ...     ...  ..     ...      ...   \n",
      "795  719                Diancie     Rock   Fairy  50     100      150   \n",
      "796  719    DiancieMega Diancie     Rock   Fairy  50     160      110   \n",
      "797  720    HoopaHoopa Confined  Psychic   Ghost  80     110       60   \n",
      "798  720     HoopaHoopa Unbound  Psychic    Dark  80     160       60   \n",
      "799  721              Volcanion     Fire   Water  80     110      120   \n",
      "\n",
      "     Sp. Atk  Sp. Def  Speed  Generation  Legendary  \n",
      "0         65       65     45           1      False  \n",
      "1         80       80     60           1      False  \n",
      "2        100      100     80           1      False  \n",
      "3        122      120     80           1      False  \n",
      "6        109       85    100           1      False  \n",
      "..       ...      ...    ...         ...        ...  \n",
      "795      100      150     50           6       True  \n",
      "796      160      110    110           6       True  \n",
      "797      150      130     70           6       True  \n",
      "798      170      130     80           6       True  \n",
      "799      130       90     70           6       True  \n",
      "\n",
      "[414 rows x 12 columns]\n"
     ]
    }
   ],
   "source": [
    "# Drop rows with missing Values\n",
    "missing_values = df.dropna()\n",
    "print(missing_values)"
   ]
  },
  {
   "cell_type": "code",
   "execution_count": 65,
   "id": "092bb5b4-d711-445b-861a-fad6a4b364c1",
   "metadata": {},
   "outputs": [
    {
     "name": "stdout",
     "output_type": "stream",
     "text": [
      "       #                   Name   Type 1  Type 2  HP  Attack  Defense  \\\n",
      "0      1              Bulbasaur    Grass  Poison  45      49       49   \n",
      "1      2                Ivysaur    Grass  Poison  60      62       63   \n",
      "2      3               Venusaur    Grass  Poison  80      82       83   \n",
      "3      3  VenusaurMega Venusaur    Grass  Poison  80     100      123   \n",
      "4      4             Charmander     Fire     NaN  39      52       43   \n",
      "..   ...                    ...      ...     ...  ..     ...      ...   \n",
      "795  719                Diancie     Rock   Fairy  50     100      150   \n",
      "796  719    DiancieMega Diancie     Rock   Fairy  50     160      110   \n",
      "797  720    HoopaHoopa Confined  Psychic   Ghost  80     110       60   \n",
      "798  720     HoopaHoopa Unbound  Psychic    Dark  80     160       60   \n",
      "799  721              Volcanion     Fire   Water  80     110      120   \n",
      "\n",
      "     Sp. Atk  Sp. Def  Speed  Generation  Legendary  \n",
      "0         65       65     45           1      False  \n",
      "1         80       80     60           1      False  \n",
      "2        100      100     80           1      False  \n",
      "3        122      120     80           1      False  \n",
      "4         60       50     65           1      False  \n",
      "..       ...      ...    ...         ...        ...  \n",
      "795      100      150     50           6       True  \n",
      "796      160      110    110           6       True  \n",
      "797      150      130     70           6       True  \n",
      "798      170      130     80           6       True  \n",
      "799      130       90     70           6       True  \n",
      "\n",
      "[800 rows x 12 columns]\n"
     ]
    }
   ],
   "source": [
    "df = pd.read_csv(\"pokemon_data.csv\")\n",
    "print(df)"
   ]
  },
  {
   "cell_type": "code",
   "execution_count": null,
   "id": "3314cfcb-1782-4b62-b435-3d31bdcc8880",
   "metadata": {},
   "outputs": [],
   "source": []
  }
 ],
 "metadata": {
  "kernelspec": {
   "display_name": "Python 3 (ipykernel)",
   "language": "python",
   "name": "python3"
  },
  "language_info": {
   "codemirror_mode": {
    "name": "ipython",
    "version": 3
   },
   "file_extension": ".py",
   "mimetype": "text/x-python",
   "name": "python",
   "nbconvert_exporter": "python",
   "pygments_lexer": "ipython3",
   "version": "3.13.5"
  }
 },
 "nbformat": 4,
 "nbformat_minor": 5
}
