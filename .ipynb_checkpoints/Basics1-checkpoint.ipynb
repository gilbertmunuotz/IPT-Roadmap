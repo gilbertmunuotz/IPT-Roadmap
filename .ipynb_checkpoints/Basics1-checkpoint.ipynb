{
 "cells": [
  {
   "cell_type": "code",
   "execution_count": 10,
   "id": "fb3411dd-9d43-4df3-85c8-62c6a67a0960",
   "metadata": {},
   "outputs": [],
   "source": [
    "import numpy as np"
   ]
  },
  {
   "cell_type": "code",
   "execution_count": 8,
   "id": "011708c7-ce09-452c-acf6-7ba30c7a4775",
   "metadata": {},
   "outputs": [
    {
     "name": "stdout",
     "output_type": "stream",
     "text": [
      "[1 2 3]\n"
     ]
    }
   ],
   "source": [
    "# 1 D Array \n",
    "a = np.array([1,2,3])\n",
    "print(a)"
   ]
  },
  {
   "cell_type": "code",
   "execution_count": 7,
   "id": "b48eb839-62f4-4505-913d-7f06027224fd",
   "metadata": {},
   "outputs": [
    {
     "name": "stdout",
     "output_type": "stream",
     "text": [
      "[[3. 4. 5.]\n",
      " [6. 7. 8.]]\n"
     ]
    }
   ],
   "source": [
    "# 2 D Array \n",
    "b = np.array([\n",
    "    [3.0,4.0,5.0],\n",
    "    [6.0,7.0,8.0]\n",
    "])\n",
    "print(b)"
   ]
  },
  {
   "cell_type": "code",
   "execution_count": 11,
   "id": "cf65facf-9d06-4f1f-841a-246bb968d2d2",
   "metadata": {},
   "outputs": [
    {
     "data": {
      "text/plain": [
       "2"
      ]
     },
     "execution_count": 11,
     "metadata": {},
     "output_type": "execute_result"
    }
   ],
   "source": [
    "# Get Dimensions\n",
    "b.ndim"
   ]
  },
  {
   "cell_type": "code",
   "execution_count": 13,
   "id": "1b820e43-c4a4-4275-a13c-7833f82a5b86",
   "metadata": {},
   "outputs": [
    {
     "data": {
      "text/plain": [
       "(2, 3)"
      ]
     },
     "execution_count": 13,
     "metadata": {},
     "output_type": "execute_result"
    }
   ],
   "source": [
    "# Get Shape (rows &colums)\n",
    "b.shape"
   ]
  },
  {
   "cell_type": "code",
   "execution_count": 15,
   "id": "370527bd-b60b-4d8c-99a6-d5f26efedf0e",
   "metadata": {},
   "outputs": [
    {
     "data": {
      "text/plain": [
       "dtype('int64')"
      ]
     },
     "execution_count": 15,
     "metadata": {},
     "output_type": "execute_result"
    }
   ],
   "source": [
    "# Get Type\n",
    "a.dtype"
   ]
  },
  {
   "cell_type": "code",
   "execution_count": 16,
   "id": "563806a1-7fb7-4e7f-8548-0060678e398e",
   "metadata": {},
   "outputs": [
    {
     "data": {
      "text/plain": [
       "8"
      ]
     },
     "execution_count": 16,
     "metadata": {},
     "output_type": "execute_result"
    }
   ],
   "source": [
    "# Get Size\n",
    "b.itemsize"
   ]
  },
  {
   "cell_type": "code",
   "execution_count": 18,
   "id": "6a052583-c6ae-439b-84bb-83c1543b6e61",
   "metadata": {},
   "outputs": [
    {
     "name": "stdout",
     "output_type": "stream",
     "text": [
      "[[ 1  2  3  4  5]\n",
      " [ 6  7  8  9 10]]\n"
     ]
    }
   ],
   "source": [
    "# Arrays manipulations\n",
    "c = np.array([\n",
    "    [1,2,3,4,5],\n",
    "    [6,7,8,9,10]\n",
    "])\n",
    "print(c)"
   ]
  },
  {
   "cell_type": "code",
   "execution_count": 26,
   "id": "499ff98c-afe7-420f-a5c2-a2b55b5dc570",
   "metadata": {},
   "outputs": [
    {
     "name": "stdout",
     "output_type": "stream",
     "text": [
      "8\n"
     ]
    }
   ],
   "source": [
    "# Getting specific Elements [r,c]\n",
    "number8 = c[1,2]\n",
    "print(number8)"
   ]
  },
  {
   "cell_type": "code",
   "execution_count": 32,
   "id": "aa21f4b7-bbbc-43c2-a90e-f49cf52349b1",
   "metadata": {},
   "outputs": [
    {
     "name": "stdout",
     "output_type": "stream",
     "text": [
      "[ 6  7  8  9 10]\n",
      "[1 2 3 4 5]\n"
     ]
    }
   ],
   "source": [
    "# Getting a specific row [row_index, :]\n",
    "row1 = c[1, :]\n",
    "row0 = c[0, :]\n",
    "print(row1)\n",
    "print(row0)"
   ]
  },
  {
   "cell_type": "code",
   "execution_count": 35,
   "id": "e1702aab-96d3-4c9b-b1c3-eb08cfc722cf",
   "metadata": {},
   "outputs": [
    {
     "name": "stdout",
     "output_type": "stream",
     "text": [
      "[3 8]\n"
     ]
    }
   ],
   "source": [
    "# Getting a spefic column [:, column_index]\n",
    "column1 = c[:, 2]\n",
    "print(column1)"
   ]
  },
  {
   "cell_type": "code",
   "execution_count": 11,
   "id": "70557a41-8621-4f39-bd9a-776be8afcbd6",
   "metadata": {},
   "outputs": [
    {
     "data": {
      "text/plain": [
       "array([[0., 0., 0.],\n",
       "       [0., 0., 0.]])"
      ]
     },
     "execution_count": 11,
     "metadata": {},
     "output_type": "execute_result"
    }
   ],
   "source": [
    "#initializing types of Arrays\n",
    "#All 0s matrix\n",
    "np.zeros((2,3))"
   ]
  },
  {
   "cell_type": "code",
   "execution_count": 12,
   "id": "58b00e02-c8b2-46b7-9d19-32689a38d903",
   "metadata": {},
   "outputs": [
    {
     "data": {
      "text/plain": [
       "array([[1., 1.],\n",
       "       [1., 1.],\n",
       "       [1., 1.],\n",
       "       [1., 1.]])"
      ]
     },
     "execution_count": 12,
     "metadata": {},
     "output_type": "execute_result"
    }
   ],
   "source": [
    "#All 1s matrix\n",
    "np.ones((4,2))"
   ]
  },
  {
   "cell_type": "code",
   "execution_count": 14,
   "id": "0b6673c6-86ad-4e64-81a1-232a57483cf1",
   "metadata": {},
   "outputs": [
    {
     "data": {
      "text/plain": [
       "array([[99, 99],\n",
       "       [99, 99]])"
      ]
     },
     "execution_count": 14,
     "metadata": {},
     "output_type": "execute_result"
    }
   ],
   "source": [
    "#Any other number\n",
    "np.full((2,2), 99)"
   ]
  },
  {
   "cell_type": "code",
   "execution_count": null,
   "id": "ba5588ff-598b-4812-9935-fb318c9a6fbc",
   "metadata": {},
   "outputs": [],
   "source": []
  }
 ],
 "metadata": {
  "kernelspec": {
   "display_name": "Python 3 (ipykernel)",
   "language": "python",
   "name": "python3"
  },
  "language_info": {
   "codemirror_mode": {
    "name": "ipython",
    "version": 3
   },
   "file_extension": ".py",
   "mimetype": "text/x-python",
   "name": "python",
   "nbconvert_exporter": "python",
   "pygments_lexer": "ipython3",
   "version": "3.13.5"
  }
 },
 "nbformat": 4,
 "nbformat_minor": 5
}
